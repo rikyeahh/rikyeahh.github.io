{
 "cells": [
  {
   "cell_type": "code",
   "execution_count": 95,
   "id": "6d8a3638",
   "metadata": {},
   "outputs": [],
   "source": [
    "import geojson\n",
    "import pandas\n",
    "import json\n",
    "from shapely.geometry import shape, Point\n",
    "from collections import OrderedDict\n",
    "import csv\n",
    "import numpy as np "
   ]
  },
  {
   "cell_type": "code",
   "execution_count": 11,
   "id": "45775148",
   "metadata": {},
   "outputs": [],
   "source": [
    "path = 'TrentoTreeMap/data/geo_data_trees.geojson'"
   ]
  },
  {
   "cell_type": "code",
   "execution_count": 14,
   "id": "4ab2a0c4",
   "metadata": {},
   "outputs": [],
   "source": [
    "with open(path, 'r') as data:\n",
    "    loaded_json = geojson.load(data)\n",
    "    features = loaded_json['features']\n",
    "    tree_names = set()\n",
    "    for feature in features:\n",
    "        properties = feature['properties']\n",
    "        tree_names.add(properties['Name'])\n",
    "    \n",
    "    result = {}\n",
    "    for tree in tree_names:\n",
    "        result[tree] = {'count': 0, 'total_canopy_cover': 0}\n",
    "        \n",
    "    for feature in features: \n",
    "        properties = feature['properties']\n",
    "        result[properties['Name']]['count'] += 1\n",
    "        result[properties['Name']]['total_canopy_cover'] += float(properties['Canopy Cover (m2)'])\n",
    "    \n",
    "    sorted_dictionary = OrderedDict(sorted(result.items(), key=lambda item: item[1]['count'], reverse=True))\n",
    "    \n",
    "    result = []\n",
    "    for key, value in sorted_dictionary.items():\n",
    "        elem = sorted_dictionary[key]\n",
    "        elem['mean_canopy_cover'] = elem['total_canopy_cover'] / elem['count']\n",
    "        #elem.pop('total_canopy_cover')\n",
    "        result += [[key, elem['count'], elem['mean_canopy_cover']]]\n",
    "        \n",
    "    with open('data1.csv', 'w+') as dump:\n",
    "        writer = csv.writer(dump)\n",
    "        writer.writerow(['name', 'count', 'mean_canopy_cover'])\n",
    "        for line in result:\n",
    "            writer.writerow(line)"
   ]
  },
  {
   "cell_type": "code",
   "execution_count": 16,
   "id": "ba10f7c9",
   "metadata": {},
   "outputs": [],
   "source": [
    "circoscrizioni_path = 'TrentoTreeMap/data/circoscrizioni.json'"
   ]
  },
  {
   "cell_type": "code",
   "execution_count": 113,
   "id": "20132579",
   "metadata": {},
   "outputs": [],
   "source": [
    "with open(circoscrizioni_path, 'r') as c:\n",
    "    with open(path, 'r') as data:\n",
    "        loaded_json = geojson.load(data)\n",
    "        circoscrizioni = geojson.load(c)\n",
    "        result = {'SARDAGNA': {}, 'MEANO': {}, 'ARGENTARIO': {}, 'BONDONE': {}, 'MATTARELLO': {}, 'OLTREFERSINA': {}, 'POVO': {}, \n",
    "                  'RAVINA-ROMAGNANO': {}, 'S.GIUSEPPE-S.CHIARA': {}, 'VILLAZZANO': {}, 'GARDOLO': {}, \n",
    "                  'CENTRO STORICO PIEDICASTELLO': {}}\n",
    "        for f in loaded_json['features']:\n",
    "            try:\n",
    "                point = Point(f['geometry']['coordinates'])        \n",
    "                for feature in circoscrizioni['features']:\n",
    "                    polygon = shape(feature['geometry'])\n",
    "                    if polygon.contains(point):\n",
    "                        tree_name = f['properties']['Name']\n",
    "                        circoscrizione = feature['properties']['nome']\n",
    "                        try:\n",
    "                            curr_count = result[circoscrizione][tree_name]\n",
    "                            result[circoscrizione][tree_name] += 1\n",
    "                        except KeyError:\n",
    "                            result[circoscrizione][tree_name] = 0\n",
    "            except TypeError:\n",
    "                continue\n",
    "            \n",
    "        with open('data2.csv', 'w+') as dump:\n",
    "            tree_names = set()\n",
    "            for feature in loaded_json['features']:\n",
    "                properties = feature['properties']\n",
    "                tree_names.add(properties['Name'])\n",
    "                \n",
    "            writer = csv.writer(dump)\n",
    "            headers = ['circoscrizione'] + list(tree_names)\n",
    "            writer.writerow(headers)\n",
    "            \n",
    "            for k, v in result.items():\n",
    "                to_write = [k]\n",
    "                for nome_albero in headers[1:]:\n",
    "                    try:\n",
    "                        to_write += [result[k][nome_albero]]\n",
    "                    except KeyError:\n",
    "                        to_write += [0]\n",
    "                \n",
    "                writer.writerow(to_write)"
   ]
  },
  {
   "cell_type": "code",
   "execution_count": 117,
   "id": "51b71bb1",
   "metadata": {},
   "outputs": [
    {
     "data": {
      "text/plain": [
       "circoscrizione          SARDAGNA\n",
       "Robinia pseudoacacia           5\n",
       "Acer pseudoplatanus           10\n",
       "Parrotia persica               8\n",
       "Acer platanoides               1\n",
       "Cupressus                      5\n",
       "Name: 0, dtype: object"
      ]
     },
     "execution_count": 117,
     "metadata": {},
     "output_type": "execute_result"
    }
   ],
   "source": [
    "df = pandas.read_csv('data2.csv')\n",
    "df.loc[:, df.iloc[0] != 0].iloc[0]"
   ]
  },
  {
   "cell_type": "code",
   "execution_count": null,
   "id": "cce4fcd1",
   "metadata": {},
   "outputs": [],
   "source": []
  }
 ],
 "metadata": {
  "kernelspec": {
   "display_name": "Python 3 (ipykernel)",
   "language": "python",
   "name": "python3"
  },
  "language_info": {
   "codemirror_mode": {
    "name": "ipython",
    "version": 3
   },
   "file_extension": ".py",
   "mimetype": "text/x-python",
   "name": "python",
   "nbconvert_exporter": "python",
   "pygments_lexer": "ipython3",
   "version": "3.10.6"
  }
 },
 "nbformat": 4,
 "nbformat_minor": 5
}
