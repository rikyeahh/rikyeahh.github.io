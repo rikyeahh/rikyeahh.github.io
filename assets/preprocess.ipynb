{
 "cells": [
  {
   "cell_type": "code",
   "execution_count": 4,
   "id": "6d8a3638",
   "metadata": {},
   "outputs": [],
   "source": [
    "import geojson\n",
    "import pandas\n",
    "import json\n",
    "from shapely.geometry import shape, Point\n",
    "from collections import OrderedDict\n",
    "import csv\n",
    "import numpy as np "
   ]
  },
  {
   "cell_type": "code",
   "execution_count": 5,
   "id": "45775148",
   "metadata": {},
   "outputs": [],
   "source": [
    "path = '../../TrentoTreeMap/data/geo_data_trees.geojson'"
   ]
  },
  {
   "cell_type": "code",
   "execution_count": 10,
   "id": "4ab2a0c4",
   "metadata": {},
   "outputs": [],
   "source": [
    "with open(path, 'r') as data:\n",
    "    loaded_json = geojson.load(data)\n",
    "    features = loaded_json['features']\n",
    "    tree_names = set()\n",
    "    for feature in features:\n",
    "        properties = feature['properties']\n",
    "        tree_names.add(properties['Name'])\n",
    "    \n",
    "    result = {}\n",
    "    for tree in tree_names:\n",
    "        result[tree] = {'count': 0, 'total_canopy_cover': 0}\n",
    "        \n",
    "    for feature in features: \n",
    "        properties = feature['properties']\n",
    "        result[properties['Name']]['count'] += 1\n",
    "        result[properties['Name']]['total_canopy_cover'] += float(properties['Canopy Cover (m2)'])\n",
    "    \n",
    "    sorted_dictionary = OrderedDict(sorted(result.items(), key=lambda item: item[1]['count'], reverse=True))\n",
    "    \n",
    "    result = []\n",
    "    for key, value in sorted_dictionary.items():\n",
    "        elem = sorted_dictionary[key]\n",
    "        elem['mean_canopy_cover'] = elem['total_canopy_cover'] / elem['count']\n",
    "        #elem.pop('total_canopy_cover')\n",
    "        result += [[key, elem['count'], elem['mean_canopy_cover']]]\n",
    "        \n",
    "    with open('data1.csv', 'w+') as dump:\n",
    "        writer = csv.writer(dump)\n",
    "        writer.writerow(['name', 'count', 'mean_canopy_cover'])\n",
    "        for line in result:\n",
    "            writer.writerow(line)"
   ]
  },
  {
   "cell_type": "code",
   "execution_count": 11,
   "id": "ba10f7c9",
   "metadata": {},
   "outputs": [],
   "source": [
    "circoscrizioni_path = '../../TrentoTreeMap/data/circoscrizioni.json'"
   ]
  },
  {
   "cell_type": "code",
   "execution_count": 22,
   "id": "ca833e23",
   "metadata": {},
   "outputs": [
    {
     "name": "stdout",
     "output_type": "stream",
     "text": [
      "{'SARDAGNA': {'Other': 33, 'Cupressus': 6}, 'MEANO': {'Other': 145, 'Celtis australis': 9, 'Cupressus': 20, 'Platanus x hispanica': 9, 'Sophora japonica': 1, 'Carpinus betulus': 2, 'Tilia cordata': 1, 'Tilia x europaea': 19}, 'ARGENTARIO': {'Other': 270, 'Acer campestre': 34, 'Platanus x hispanica': 12, 'Sophora japonica': 5, 'Aesculus hippocastanum': 9, 'Tilia x europaea': 10, 'Celtis australis': 61, 'Tilia cordata': 5, 'Cupressus': 25, 'Prunus cerasifera': 5, 'Carpinus betulus': 18}, 'BONDONE': {'Other': 187, 'Acer campestre': 9, 'Tilia cordata': 9, 'Cupressus': 23, 'Carpinus betulus': 3, 'Sophora japonica': 7, 'Tilia x europaea': 28, 'Platanus x hispanica': 2, 'Aesculus hippocastanum': 21, 'Celtis australis': 1, 'Prunus cerasifera': 2}, 'MATTARELLO': {'Other': 160, 'Carpinus betulus': 13, 'Cupressus': 25, 'Celtis australis': 25, 'Tilia cordata': 6, 'Sophora japonica': 13, 'Platanus x hispanica': 6, 'Tilia x europaea': 5, 'Aesculus hippocastanum': 1, 'Prunus cerasifera': 8, 'Acer campestre': 2}, 'OLTREFERSINA': {'Other': 1688, 'Celtis australis': 341, 'Acer campestre': 128, 'Prunus cerasifera': 106, 'Tilia x europaea': 100, 'Carpinus betulus': 126, 'Aesculus hippocastanum': 34, 'Tilia cordata': 116, 'Platanus x hispanica': 31, 'Sophora japonica': 8, 'Cupressus': 17}, 'POVO': {'Other': 110, 'Tilia cordata': 1, 'Celtis australis': 21, 'Prunus cerasifera': 1, 'Cupressus': 14, 'Platanus x hispanica': 2, 'Sophora japonica': 3, 'Aesculus hippocastanum': 13, 'Carpinus betulus': 1, 'Tilia x europaea': 16, 'Acer campestre': 7}, 'RAVINA-ROMAGNANO': {'Tilia cordata': 34, 'Carpinus betulus': 5, 'Other': 189, 'Acer campestre': 1, 'Celtis australis': 15, 'Tilia x europaea': 18, 'Cupressus': 16, 'Platanus x hispanica': 23, 'Aesculus hippocastanum': 3, 'Prunus cerasifera': 14, 'Sophora japonica': 1}, 'S.GIUSEPPE-S.CHIARA': {'Tilia x europaea': 118, 'Other': 1609, 'Celtis australis': 83, 'Aesculus hippocastanum': 405, 'Tilia cordata': 31, 'Platanus x hispanica': 53, 'Acer campestre': 181, 'Carpinus betulus': 123, 'Prunus cerasifera': 157, 'Sophora japonica': 52, 'Cupressus': 212}, 'VILLAZZANO': {'Other': 270, 'Sophora japonica': 14, 'Tilia cordata': 35, 'Acer campestre': 7, 'Carpinus betulus': 33, 'Celtis australis': 19, 'Tilia x europaea': 10, 'Cupressus': 25, 'Platanus x hispanica': 3}, 'GARDOLO': {'Other': 673, 'Celtis australis': 211, 'Carpinus betulus': 53, 'Tilia cordata': 216, 'Platanus x hispanica': 169, 'Acer campestre': 37, 'Sophora japonica': 158, 'Tilia x europaea': 105, 'Cupressus': 14, 'Aesculus hippocastanum': 4, 'Prunus cerasifera': 11}, 'CENTRO STORICO PIEDICASTELLO': {'Celtis australis': 242, 'Other': 1969, 'Carpinus betulus': 159, 'Aesculus hippocastanum': 91, 'Tilia x europaea': 42, 'Prunus cerasifera': 46, 'Acer campestre': 52, 'Platanus x hispanica': 192, 'Sophora japonica': 114, 'Tilia cordata': 55, 'Cupressus': 2}}\n"
     ]
    }
   ],
   "source": [
    "df = pandas.read_csv('data1.csv')\n",
    "top_n_tree_names = list(df['name'][:10])\n",
    "\n",
    "with open(circoscrizioni_path, 'r') as c:\n",
    "    with open(path, 'r') as data:\n",
    "        loaded_json = geojson.load(data)\n",
    "        circoscrizioni = geojson.load(c)\n",
    "        result = {'SARDAGNA': {'Other': 1}, 'MEANO': {}, 'ARGENTARIO': {}, 'BONDONE': {}, 'MATTARELLO': {}, 'OLTREFERSINA': {}, 'POVO': {}, \n",
    "                  'RAVINA-ROMAGNANO': {}, 'S.GIUSEPPE-S.CHIARA': {}, 'VILLAZZANO': {}, 'GARDOLO': {}, \n",
    "                  'CENTRO STORICO PIEDICASTELLO': {}}\n",
    "        \n",
    "        for f in loaded_json['features']:\n",
    "            try:\n",
    "                point = Point(f['geometry']['coordinates'])        \n",
    "                for feature in circoscrizioni['features']:\n",
    "                    polygon = shape(feature['geometry'])\n",
    "                    if polygon.contains(point):\n",
    "                        tree_name = f['properties']['Name']\n",
    "                        circoscrizione = feature['properties']['nome']\n",
    "                        try:\n",
    "                            if tree_name in top_n_tree_names:\n",
    "                                curr_count = result[circoscrizione][tree_name]\n",
    "                                result[circoscrizione][tree_name] += 1\n",
    "                            else:\n",
    "                                curr_count = result[circoscrizione]['Other']\n",
    "                                result[circoscrizione]['Other'] += 1\n",
    "                        except KeyError:\n",
    "                            if tree_name in top_n_tree_names:\n",
    "                                result[circoscrizione][tree_name] = 1\n",
    "                            else:\n",
    "                                result[circoscrizione]['Other'] = 1\n",
    "            except TypeError:\n",
    "                continue\n",
    "        \n",
    "        with open('data2.csv', 'w+') as dump:\n",
    "            tree_names = set()\n",
    "            for feature in loaded_json['features']:\n",
    "                properties = feature['properties']\n",
    "                tree_names.add(properties['Name'])\n",
    "                \n",
    "            writer = csv.writer(dump)\n",
    "            headers = ['circoscrizioni'] + top_n_tree_names + ['Other']\n",
    "            \n",
    "            print(result)\n",
    "            \n",
    "            writer.writerow(headers)\n",
    "        \n",
    "            for k, v in result.items():\n",
    "                to_write = [k]\n",
    "                for nome_albero in headers[1:]:\n",
    "                    try:\n",
    "                        to_write += [result[k][nome_albero]]\n",
    "                    except KeyError:\n",
    "                        to_write += [0]\n",
    "                \n",
    "                writer.writerow(to_write)"
   ]
  },
  {
   "cell_type": "code",
   "execution_count": 18,
   "id": "20132579",
   "metadata": {},
   "outputs": [
    {
     "name": "stdout",
     "output_type": "stream",
     "text": [
      "{'Celtis australis': {'VILLAZZANO': 19, 'POVO': 21, 'MATTARELLO': 25, 'RAVINA-ROMAGNANO': 15, 'GARDOLO': 211, 'MEANO': 9, 'ARGENTARIO': 61, 'CENTRO STORICO PIEDICASTELLO': 242, 'OLTREFERSINA': 341, 'S.GIUSEPPE-S.CHIARA': 83, 'BONDONE': 1}, 'Aesculus hippocastanum': {'ARGENTARIO': 9, 'S.GIUSEPPE-S.CHIARA': 405, 'CENTRO STORICO PIEDICASTELLO': 91, 'OLTREFERSINA': 34, 'GARDOLO': 4, 'RAVINA-ROMAGNANO': 3, 'BONDONE': 21, 'POVO': 13, 'MATTARELLO': 1}, 'Carpinus betulus': {'BONDONE': 3, 'RAVINA-ROMAGNANO': 5, 'MATTARELLO': 13, 'VILLAZZANO': 33, 'GARDOLO': 53, 'CENTRO STORICO PIEDICASTELLO': 159, 'OLTREFERSINA': 126, 'S.GIUSEPPE-S.CHIARA': 123, 'ARGENTARIO': 18, 'MEANO': 2, 'POVO': 1}, 'Tilia cordata': {'VILLAZZANO': 35, 'RAVINA-ROMAGNANO': 34, 'POVO': 1, 'BONDONE': 9, 'MATTARELLO': 6, 'GARDOLO': 216, 'ARGENTARIO': 5, 'S.GIUSEPPE-S.CHIARA': 31, 'OLTREFERSINA': 116, 'CENTRO STORICO PIEDICASTELLO': 55, 'MEANO': 1}, 'Platanus x hispanica': {'POVO': 2, 'GARDOLO': 169, 'ARGENTARIO': 12, 'S.GIUSEPPE-S.CHIARA': 53, 'OLTREFERSINA': 31, 'CENTRO STORICO PIEDICASTELLO': 192, 'MATTARELLO': 6, 'RAVINA-ROMAGNANO': 23, 'BONDONE': 2, 'MEANO': 9, 'VILLAZZANO': 3}, 'Tilia x europaea': {'BONDONE': 28, 'RAVINA-ROMAGNANO': 18, 'VILLAZZANO': 10, 'GARDOLO': 105, 'ARGENTARIO': 10, 'OLTREFERSINA': 100, 'S.GIUSEPPE-S.CHIARA': 118, 'CENTRO STORICO PIEDICASTELLO': 42, 'POVO': 16, 'MATTARELLO': 5, 'MEANO': 19}, 'Acer campestre': {'VILLAZZANO': 7, 'BONDONE': 9, 'RAVINA-ROMAGNANO': 1, 'GARDOLO': 37, 'ARGENTARIO': 34, 'OLTREFERSINA': 128, 'S.GIUSEPPE-S.CHIARA': 181, 'CENTRO STORICO PIEDICASTELLO': 52, 'POVO': 7, 'MATTARELLO': 2}, 'Cupressus': {'SARDAGNA': 6, 'BONDONE': 23, 'MATTARELLO': 25, 'POVO': 14, 'S.GIUSEPPE-S.CHIARA': 212, 'OLTREFERSINA': 17, 'GARDOLO': 14, 'MEANO': 20, 'VILLAZZANO': 25, 'ARGENTARIO': 25, 'RAVINA-ROMAGNANO': 16, 'CENTRO STORICO PIEDICASTELLO': 2}, 'Sophora japonica': {'VILLAZZANO': 14, 'MATTARELLO': 13, 'BONDONE': 7, 'GARDOLO': 158, 'ARGENTARIO': 5, 'CENTRO STORICO PIEDICASTELLO': 114, 'S.GIUSEPPE-S.CHIARA': 52, 'OLTREFERSINA': 8, 'POVO': 3, 'MEANO': 1, 'RAVINA-ROMAGNANO': 1}, 'Prunus cerasifera': {'POVO': 1, 'OLTREFERSINA': 106, 'CENTRO STORICO PIEDICASTELLO': 46, 'S.GIUSEPPE-S.CHIARA': 157, 'RAVINA-ROMAGNANO': 14, 'ARGENTARIO': 5, 'GARDOLO': 11, 'MATTARELLO': 8, 'BONDONE': 2}, 'Other': {'SARDAGNA': 32, 'POVO': 110, 'VILLAZZANO': 270, 'BONDONE': 187, 'RAVINA-ROMAGNANO': 189, 'MATTARELLO': 160, 'OLTREFERSINA': 1688, 'GARDOLO': 673, 'MEANO': 145, 'ARGENTARIO': 270, 'CENTRO STORICO PIEDICASTELLO': 1969, 'S.GIUSEPPE-S.CHIARA': 1609}}\n"
     ]
    }
   ],
   "source": [
    "df = pandas.read_csv('data1.csv')\n",
    "top_n_tree_names = list(df['name'][:10])\n",
    "\n",
    "with open(circoscrizioni_path, 'r') as c:\n",
    "    with open(path, 'r') as data:\n",
    "        loaded_json = geojson.load(data)\n",
    "        circoscrizioni = geojson.load(c)\n",
    "        result = {'SARDAGNA': {'Other': 1}, 'MEANO': {}, 'ARGENTARIO': {}, 'BONDONE': {}, 'MATTARELLO': {}, 'OLTREFERSINA': {}, 'POVO': {}, \n",
    "                  'RAVINA-ROMAGNANO': {}, 'S.GIUSEPPE-S.CHIARA': {}, 'VILLAZZANO': {}, 'GARDOLO': {}, \n",
    "                  'CENTRO STORICO PIEDICASTELLO': {}}\n",
    "        \n",
    "        circoscrizioni_list = result.keys()\n",
    "        \n",
    "        result = {}\n",
    "        for tree in top_n_tree_names: \n",
    "            result[tree] = {}\n",
    "        \n",
    "        result['Other'] = {}\n",
    "        \n",
    "        for f in loaded_json['features']:\n",
    "            try:\n",
    "                point = Point(f['geometry']['coordinates'])        \n",
    "                for feature in circoscrizioni['features']:\n",
    "                    polygon = shape(feature['geometry'])\n",
    "                    if polygon.contains(point):\n",
    "                        tree_name = f['properties']['Name']\n",
    "                        circoscrizione = feature['properties']['nome']\n",
    "                        try:\n",
    "                            if tree_name in top_n_tree_names:\n",
    "                                curr_count = result[tree_name][circoscrizione]\n",
    "                                result[tree_name][circoscrizione] += 1\n",
    "                            else:\n",
    "                                curr_count = result['Other'][circoscrizione]\n",
    "                                result['Other'][circoscrizione] += 1\n",
    "                        except KeyError:\n",
    "                            if tree_name in top_n_tree_names:\n",
    "                                result[tree_name][circoscrizione] = 1\n",
    "                            else:\n",
    "                                result['Other'][circoscrizione] = 1\n",
    "            except TypeError:\n",
    "                continue\n",
    "        \n",
    "        with open('data3.csv', 'w+') as dump:\n",
    "            tree_names = set()\n",
    "            for feature in loaded_json['features']:\n",
    "                properties = feature['properties']\n",
    "                tree_names.add(properties['Name'])\n",
    "                \n",
    "            writer = csv.writer(dump)\n",
    "            headers = ['tree_name'] \n",
    "            for i in circoscrizioni_list:\n",
    "                headers.append(i)\n",
    "                \n",
    "            writer.writerow(headers)\n",
    "            \n",
    "            print(result)\n",
    "            \n",
    "            for k, v in result.items():\n",
    "                to_write = [k]\n",
    "                for c in circoscrizioni_list:\n",
    "                    try:\n",
    "                        to_write += [result[k][c]]\n",
    "                    except KeyError:\n",
    "                        to_write += [0]\n",
    "                writer.writerow(to_write)\n",
    "\n",
    "            '''\n",
    "            for k, v in result.items():\n",
    "                to_write = [k]\n",
    "                for nome_albero in headers[1:]:\n",
    "                    try:\n",
    "                        to_write += [result[nome_albero][k]]\n",
    "                    except KeyError:\n",
    "                        to_write += [0]\n",
    "                \n",
    "                writer.writerow(to_write)\n",
    "            '''"
   ]
  },
  {
   "cell_type": "code",
   "execution_count": 16,
   "id": "4e563c61",
   "metadata": {},
   "outputs": [],
   "source": [
    "with open(path, 'r') as data:\n",
    "    loaded_json = geojson.load(data)\n",
    "    features = loaded_json['features']\n",
    "    \n",
    "    result = []\n",
    "    \n",
    "    for feature in features: \n",
    "        properties = feature['properties']\n",
    "        result.append([properties['Height (m)']])\n",
    "    \n",
    "    with open('data4.csv', 'w+') as dump:\n",
    "        writer = csv.writer(dump)\n",
    "        writer.writerow(['height'])\n",
    "        for line in result:\n",
    "            writer.writerow(line)"
   ]
  },
  {
   "cell_type": "code",
   "execution_count": 23,
   "id": "9566972b",
   "metadata": {},
   "outputs": [],
   "source": [
    "with open(path, 'r') as data:\n",
    "    df = pandas.read_csv('data1.csv')\n",
    "    top_n_tree_names = list(df['name'][:10])\n",
    "\n",
    "    loaded_json = geojson.load(data)\n",
    "    features = loaded_json['features']\n",
    "    \n",
    "    result = []\n",
    "    for feature in features:\n",
    "        properties = feature['properties']\n",
    "        if properties['Name'] in top_n_tree_names:\n",
    "            result.append([properties['Name'], properties['Height (m)'], properties['Gross Carbon Sequestration (kg/yr)'], properties['Canopy Cover (m2)']])\n",
    "\n",
    "    with open('data5.csv', 'w+') as dump:\n",
    "        writer = csv.writer(dump)\n",
    "        writer.writerow(['name', 'height', 'co2_absorption', 'canopy_cover'])\n",
    "        for line in result:\n",
    "            writer.writerow(line)"
   ]
  },
  {
   "cell_type": "code",
   "execution_count": 28,
   "id": "f70682d4",
   "metadata": {},
   "outputs": [
    {
     "name": "stderr",
     "output_type": "stream",
     "text": [
      "C:\\Users\\ricca\\AppData\\Local\\Temp\\ipykernel_12828\\461144886.py:5: FutureWarning: Dropping of nuisance columns in DataFrame reductions (with 'numeric_only=None') is deprecated; in a future version this will raise TypeError.  Select only valid columns before calling the reduction.\n",
      "  n_trees = list(df.sum(axis = 1))\n"
     ]
    }
   ],
   "source": [
    "# data 7 creation\n",
    "with open('../assets/data7.csv', 'w+') as dump:\n",
    "    df = pandas.read_csv('data2.csv')\n",
    "    circ_names = list(df.circoscrizione)\n",
    "    n_trees = list(df.sum(axis = 1))\n",
    "    #print(circ_names)\n",
    "    #print(list(df.sum(axis = 1)))\n",
    "    result = []\n",
    "    for i, circ in enumerate(circ_names):\n",
    "        result.append([circ, circ, n_trees[i], 0])\n",
    "    #print(result)\n",
    "\n",
    "    writer = csv.writer(dump)\n",
    "    writer.writerow(['name', 'code', 'pop', 'area'])\n",
    "    for line in result:\n",
    "        writer.writerow(line)"
   ]
  },
  {
   "cell_type": "code",
   "execution_count": null,
   "id": "806488e3",
   "metadata": {},
   "outputs": [],
   "source": []
  }
 ],
 "metadata": {
  "kernelspec": {
   "display_name": "Python 3.9.13 64-bit (microsoft store)",
   "language": "python",
   "name": "python3"
  },
  "language_info": {
   "codemirror_mode": {
    "name": "ipython",
    "version": 3
   },
   "file_extension": ".py",
   "mimetype": "text/x-python",
   "name": "python",
   "nbconvert_exporter": "python",
   "pygments_lexer": "ipython3",
   "version": "3.9.13"
  },
  "vscode": {
   "interpreter": {
    "hash": "37a4fa3bbd187549beed702faca122c1df1c9984f2d54f9bf9dbc572e7242e3f"
   }
  }
 },
 "nbformat": 4,
 "nbformat_minor": 5
}
