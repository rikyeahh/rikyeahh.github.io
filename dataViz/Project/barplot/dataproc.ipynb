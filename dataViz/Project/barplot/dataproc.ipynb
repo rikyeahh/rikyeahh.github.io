{
 "cells": [
  {
   "cell_type": "code",
   "execution_count": 1,
   "metadata": {},
   "outputs": [],
   "source": [
    "import pandas as pd\n",
    "import csv"
   ]
  },
  {
   "cell_type": "code",
   "execution_count": 24,
   "metadata": {},
   "outputs": [
    {
     "data": {
      "text/html": [
       "<div>\n",
       "<style scoped>\n",
       "    .dataframe tbody tr th:only-of-type {\n",
       "        vertical-align: middle;\n",
       "    }\n",
       "\n",
       "    .dataframe tbody tr th {\n",
       "        vertical-align: top;\n",
       "    }\n",
       "\n",
       "    .dataframe thead th {\n",
       "        text-align: right;\n",
       "    }\n",
       "</style>\n",
       "<table border=\"1\" class=\"dataframe\">\n",
       "  <thead>\n",
       "    <tr style=\"text-align: right;\">\n",
       "      <th></th>\n",
       "      <th>Entity</th>\n",
       "      <th>Type</th>\n",
       "      <th>Year</th>\n",
       "      <th>LandUse</th>\n",
       "    </tr>\n",
       "  </thead>\n",
       "  <tbody>\n",
       "    <tr>\n",
       "      <th>0</th>\n",
       "      <td>Beef (beef herd)</td>\n",
       "      <td>Meat</td>\n",
       "      <td>2010</td>\n",
       "      <td>119.490842</td>\n",
       "    </tr>\n",
       "    <tr>\n",
       "      <th>1</th>\n",
       "      <td>Lamb &amp; Mutton</td>\n",
       "      <td>Meat</td>\n",
       "      <td>2010</td>\n",
       "      <td>116.659306</td>\n",
       "    </tr>\n",
       "    <tr>\n",
       "      <th>2</th>\n",
       "      <td>Cheese</td>\n",
       "      <td>Other</td>\n",
       "      <td>2010</td>\n",
       "      <td>22.684755</td>\n",
       "    </tr>\n",
       "  </tbody>\n",
       "</table>\n",
       "</div>"
      ],
      "text/plain": [
       "             Entity   Type  Year     LandUse\n",
       "0  Beef (beef herd)   Meat  2010  119.490842\n",
       "1     Lamb & Mutton   Meat  2010  116.659306\n",
       "2            Cheese  Other  2010   22.684755"
      ]
     },
     "execution_count": 24,
     "metadata": {},
     "output_type": "execute_result"
    }
   ],
   "source": [
    "kcals = pd.read_csv(\"landUsePer1000Kcal.csv\")\n",
    "proteins = pd.read_csv(\"landUsePer100gProteins.csv\")\n",
    "kg = pd.read_csv(\"landUsePer1Kg.csv\")\n",
    "\n",
    "foods = kcals[\"Entity\"]\n",
    "types = kcals[\"Type\"]\n",
    "foodType = {foods[i] : types[i] for i in range(len(foods))}\n",
    "\n",
    "kcals.head(3)"
   ]
  },
  {
   "cell_type": "code",
   "execution_count": 25,
   "metadata": {},
   "outputs": [
    {
     "data": {
      "text/plain": [
       "{'Beef (beef herd)': 'Meat',\n",
       " 'Lamb & Mutton': 'Meat',\n",
       " 'Cheese': 'Other',\n",
       " 'Beef (dairy herd)': 'Meat',\n",
       " 'Milk': 'Other',\n",
       " 'Dark Chocolate': 'Other',\n",
       " 'Pig Meat': 'Meat',\n",
       " 'Poultry Meat': 'Meat',\n",
       " 'Fish (farmed)': 'Meat',\n",
       " 'Eggs': 'Other',\n",
       " 'Berries & Grapes': 'Fruit',\n",
       " 'Tomatoes': 'Vegetable',\n",
       " 'Bananas': 'Fruit',\n",
       " 'Oatmeal': 'Cereal',\n",
       " 'Prawns (farmed)': 'Meat',\n",
       " 'Citrus': 'Fruit',\n",
       " 'Peas': 'Vegetable',\n",
       " 'Nuts': 'Other',\n",
       " 'Wheat & Rye': 'Cereal',\n",
       " 'Apples': 'Fruit',\n",
       " 'Tofu': 'Other',\n",
       " 'Potatoes': 'Vegetable',\n",
       " 'Onions & Leeks': 'Vegetable',\n",
       " 'Root Vegetables': 'Vegetable',\n",
       " 'Rice': 'Cereal'}"
      ]
     },
     "execution_count": 25,
     "metadata": {},
     "output_type": "execute_result"
    }
   ],
   "source": [
    "foodType\n"
   ]
  },
  {
   "cell_type": "code",
   "execution_count": 29,
   "metadata": {},
   "outputs": [],
   "source": [
    "proteins = proteins[proteins[\"Entity\"].isin(foods)]\n",
    "proteins = proteins.sort_values(\"LandUse\")[::-1]\n",
    "types_to_add = [foodType[food] for food in proteins[\"Entity\"]]\n",
    "proteins[\"Type\"] = types_to_add\n",
    "proteins.to_csv(\"landUsePer100gProteins.csv\")"
   ]
  },
  {
   "cell_type": "code",
   "execution_count": 30,
   "metadata": {},
   "outputs": [],
   "source": [
    "kg = kg[kg[\"Entity\"].isin(foods)]\n",
    "kg = kg.sort_values(\"LandUse\")[::-1]\n",
    "types_to_add = [foodType[food] for food in kg[\"Entity\"]]\n",
    "kg[\"Type\"] = types_to_add\n",
    "kg.to_csv(\"landUsePer1Kg.csv\")"
   ]
  },
  {
   "cell_type": "code",
   "execution_count": null,
   "metadata": {},
   "outputs": [],
   "source": []
  }
 ],
 "metadata": {
  "kernelspec": {
   "display_name": "Python 3",
   "language": "python",
   "name": "python3"
  },
  "language_info": {
   "codemirror_mode": {
    "name": "ipython",
    "version": 3
   },
   "file_extension": ".py",
   "mimetype": "text/x-python",
   "name": "python",
   "nbconvert_exporter": "python",
   "pygments_lexer": "ipython3",
   "version": "3.9.13"
  },
  "orig_nbformat": 4,
  "vscode": {
   "interpreter": {
    "hash": "37a4fa3bbd187549beed702faca122c1df1c9984f2d54f9bf9dbc572e7242e3f"
   }
  }
 },
 "nbformat": 4,
 "nbformat_minor": 2
}
